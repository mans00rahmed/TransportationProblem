{
 "cells": [
  {
   "cell_type": "code",
   "execution_count": 29,
   "metadata": {},
   "outputs": [],
   "source": [
    "from pulp import *"
   ]
  },
  {
   "cell_type": "code",
   "execution_count": 30,
   "metadata": {},
   "outputs": [],
   "source": [
    "# Plants and DIstributions Lists\n",
    "Plants = ['A', 'B', 'C']\n",
    "Distribution = [1,2,3,4]"
   ]
  },
  {
   "cell_type": "code",
   "execution_count": 31,
   "metadata": {},
   "outputs": [],
   "source": [
    "# Supply from each Plants\n",
    "supply = {'A' : 6, 'B' : 1, 'C' : 10}"
   ]
  },
  {
   "cell_type": "code",
   "execution_count": 32,
   "metadata": {},
   "outputs": [],
   "source": [
    "# Demand of each Distribution\n",
    "demand = {1 : 7, 2 : 5, 3 : 3, 4 : 2}"
   ]
  },
  {
   "cell_type": "code",
   "execution_count": 33,
   "metadata": {},
   "outputs": [],
   "source": [
    "# Cost for all Plants and Distributions\n",
    "cost = {'A': {1 : 2, 2 : 3, 3 : 11, 4 : 7},\n",
    "       'B': {1 : 1, 2 : 0, 3 : 6, 4 : 1},\n",
    "       'C': {1 : 5, 2 : 8, 3 : 15, 4 : 9},\n",
    "       }"
   ]
  },
  {
   "cell_type": "code",
   "execution_count": 34,
   "metadata": {},
   "outputs": [],
   "source": [
    "# Setting Problem \n",
    "prob = LpProblem(\"Transportation\", LpMinimize)"
   ]
  },
  {
   "cell_type": "code",
   "execution_count": 35,
   "metadata": {},
   "outputs": [],
   "source": [
    "routes =[(i,j) for i in Plants for j in Distribution]"
   ]
  },
  {
   "cell_type": "code",
   "execution_count": 36,
   "metadata": {},
   "outputs": [],
   "source": [
    "# Defining Decision Variables\n",
    "amount_vars = LpVariable.dicts(\"Amountship\",(Plants,Warehouse),0)"
   ]
  },
  {
   "cell_type": "code",
   "execution_count": 37,
   "metadata": {},
   "outputs": [],
   "source": [
    "# Defining Objective Function\n",
    "prob += lpSum(amount_vars[i][j]*cost[i][j] for (i,j) in routes)"
   ]
  },
  {
   "cell_type": "code",
   "execution_count": 38,
   "metadata": {},
   "outputs": [],
   "source": [
    "# Constraints\n",
    "for j in Distribution:\n",
    "    prob += lpSum(amount_vars[i][j] for i in Plants) == demand[j]\n",
    "\n",
    "for i in Plants:\n",
    "    prob += lpSum(amount_vars[i][j] for j in Distribution) <= supply[i]"
   ]
  },
  {
   "cell_type": "code",
   "execution_count": 39,
   "metadata": {},
   "outputs": [
    {
     "data": {
      "text/plain": [
       "1"
      ]
     },
     "execution_count": 39,
     "metadata": {},
     "output_type": "execute_result"
    }
   ],
   "source": [
    "prob.solve()"
   ]
  },
  {
   "cell_type": "code",
   "execution_count": 40,
   "metadata": {},
   "outputs": [
    {
     "name": "stdout",
     "output_type": "stream",
     "text": [
      "Status: Optimal\n"
     ]
    }
   ],
   "source": [
    "print(\"Status:\", LpStatus[prob.status])"
   ]
  },
  {
   "cell_type": "code",
   "execution_count": 41,
   "metadata": {},
   "outputs": [
    {
     "name": "stdout",
     "output_type": "stream",
     "text": [
      "Amountship_A_2 = 5.0\n",
      "Amountship_A_3 = 1.0\n",
      "Amountship_B_3 = 1.0\n",
      "Amountship_C_1 = 7.0\n",
      "Amountship_C_3 = 1.0\n",
      "Amountship_C_4 = 2.0\n"
     ]
    }
   ],
   "source": [
    "for v in prob.variables():\n",
    "    if v.varValue > 0:\n",
    "        print(v.name, \"=\", v.varValue)"
   ]
  },
  {
   "cell_type": "code",
   "execution_count": 42,
   "metadata": {},
   "outputs": [
    {
     "name": "stdout",
     "output_type": "stream",
     "text": [
      "Total -miles =  100.0\n"
     ]
    }
   ],
   "source": [
    "print(\"Total Minimal Shipment Cost = \", value(prob.objective))"
   ]
  }
 ],
 "metadata": {
  "kernelspec": {
   "display_name": "Python 3",
   "language": "python",
   "name": "python3"
  },
  "language_info": {
   "codemirror_mode": {
    "name": "ipython",
    "version": 3
   },
   "file_extension": ".py",
   "mimetype": "text/x-python",
   "name": "python",
   "nbconvert_exporter": "python",
   "pygments_lexer": "ipython3",
   "version": "3.8.5"
  }
 },
 "nbformat": 4,
 "nbformat_minor": 2
}
